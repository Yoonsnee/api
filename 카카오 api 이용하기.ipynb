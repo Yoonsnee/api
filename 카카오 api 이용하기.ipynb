{
 "cells": [
  {
   "cell_type": "markdown",
   "id": "4b9a8301",
   "metadata": {},
   "source": [
    "#### 개발 가이드를 참고하고 자신의 api를 발급받아 아래와 같이 사용하면 됨\n"
   ]
  },
  {
   "cell_type": "code",
   "execution_count": 24,
   "id": "ee46e220",
   "metadata": {},
   "outputs": [],
   "source": [
    "#카카오 맵 api\n",
    "# https://developers.kakao.com/docs/latest/ko/local/dev-guide#address-coord\n",
    "import requests, json\n",
    "import numpy as np\n",
    "from urllib.parse import urlparse\n",
    "import json\n",
    "def convertKakaoGeo(addr):\n",
    "    try:\n",
    "        REST_API_KEY = '18737d5fc137442681e6094df137a2eb'\n",
    "        url = \"https://dapi.kakao.com/v2/local/search/address.json\"\n",
    "        h = { \"Authorization\": f\"KakaoAK {REST_API_KEY}\",'Content-Type': 'application/json' }\n",
    "        param = {\"query\":addr} \n",
    "        re = requests.get(url,headers = h, params = param).json()\n",
    "        print(re)\n",
    "        #위도 경도\n",
    "        return re['documents'][0]['y'],re['documents'][0]['x'] ,re['documents'][0]['road_address']['building_name']\n",
    "    except Exception as e:        \n",
    "        return np.NaN,np.NaN,np.NaN"
   ]
  },
  {
   "cell_type": "code",
   "execution_count": 32,
   "id": "ffad634b",
   "metadata": {},
   "outputs": [
    {
     "name": "stdout",
     "output_type": "stream",
     "text": [
      "{'documents': [{'address': {'address_name': '서울 강남구 역삼동 818-12', 'b_code': '1168010100', 'h_code': '1168064000', 'main_address_no': '818', 'mountain_yn': 'N', 'region_1depth_name': '서울', 'region_2depth_name': '강남구', 'region_3depth_h_name': '역삼1동', 'region_3depth_name': '역삼동', 'sub_address_no': '12', 'x': '127.028419603321', 'y': '37.4995844298918'}, 'address_name': '서울 강남구 강남대로94길 13', 'address_type': 'ROAD_ADDR', 'road_address': {'address_name': '서울 강남구 강남대로94길 13', 'building_name': '', 'main_building_no': '13', 'region_1depth_name': '서울', 'region_2depth_name': '강남구', 'region_3depth_name': '역삼동', 'road_name': '강남대로94길', 'sub_building_no': '', 'underground_yn': 'N', 'x': '127.028419603321', 'y': '37.4995844298918', 'zone_no': '06129'}, 'x': '127.028419603321', 'y': '37.4995844298918'}], 'meta': {'is_end': True, 'pageable_count': 1, 'total_count': 1}}\n"
     ]
    },
    {
     "data": {
      "text/plain": [
       "('37.4995844298918', '127.028419603321', '')"
      ]
     },
     "execution_count": 32,
     "metadata": {},
     "output_type": "execute_result"
    }
   ],
   "source": [
    "convertKakaoGeo('서울 강남구 강남대로94길 13 삼경빌딩 1~5층')"
   ]
  },
  {
   "cell_type": "code",
   "execution_count": 33,
   "id": "2b9d3b5d",
   "metadata": {},
   "outputs": [
    {
     "name": "stdout",
     "output_type": "stream",
     "text": [
      "{'documents': [{'address': {'address_name': '서울 강남구 역삼동 818-12', 'b_code': '1168010100', 'h_code': '1168064000', 'main_address_no': '818', 'mountain_yn': 'N', 'region_1depth_name': '서울', 'region_2depth_name': '강남구', 'region_3depth_h_name': '역삼1동', 'region_3depth_name': '역삼동', 'sub_address_no': '12', 'x': '127.028419603321', 'y': '37.4995844298918'}, 'address_name': '서울 강남구 강남대로94길 13', 'address_type': 'ROAD_ADDR', 'road_address': {'address_name': '서울 강남구 강남대로94길 13', 'building_name': '', 'main_building_no': '13', 'region_1depth_name': '서울', 'region_2depth_name': '강남구', 'region_3depth_name': '역삼동', 'road_name': '강남대로94길', 'sub_building_no': '', 'underground_yn': 'N', 'x': '127.028419603321', 'y': '37.4995844298918', 'zone_no': '06129'}, 'x': '127.028419603321', 'y': '37.4995844298918'}], 'meta': {'is_end': True, 'pageable_count': 1, 'total_count': 1}}\n"
     ]
    },
    {
     "data": {
      "text/plain": [
       "<folium.map.Marker at 0x285894f24c0>"
      ]
     },
     "execution_count": 33,
     "metadata": {},
     "output_type": "execute_result"
    }
   ],
   "source": [
    "import folium\n",
    "lat,lng,name = convertKakaoGeo('서울 강남구 강남대로94길 13 삼경빌딩 1~5층')\n",
    "m = folium.Map(location=[lat,lng],zoom_start=12)\n",
    "folium.Marker(\n",
    "    location=[lat,lng]\n",
    "    ,tooltip=name\n",
    ").add_to(m)"
   ]
  },
  {
   "cell_type": "code",
   "execution_count": 47,
   "id": "f3fd33fc",
   "metadata": {
    "scrolled": true
   },
   "outputs": [],
   "source": [
    "# 카카오 검색\n",
    "import pandas as pd\n",
    "import requests, json\n",
    "search = '김건희'\n",
    "REST_API_KEY = '18737d5fc137442681e6094df137a2eb'\n",
    "url = \"https://dapi.kakao.com/v2/search/web\"\n",
    "h = { \"Authorization\": f\"KakaoAK {REST_API_KEY}\",'Content-Type': 'application/json' }\n",
    "result = []\n",
    "for i in range(1,51):\n",
    "    param = {\"query\":search,'page':1,'size':50} \n",
    "    re = requests.get(url,headers = h, params = param).json()\n",
    "    result.append(pd.DataFrame(re['documents']))\n",
    "df = pd.concat(result).reset_index()"
   ]
  },
  {
   "cell_type": "code",
   "execution_count": 92,
   "id": "fcc4fd91",
   "metadata": {
    "scrolled": true
   },
   "outputs": [],
   "source": [
    "# df.loc[:,'contents']"
   ]
  },
  {
   "cell_type": "markdown",
   "id": "b06e4447",
   "metadata": {},
   "source": [
    "##### 검색결과 시각화"
   ]
  },
  {
   "cell_type": "code",
   "execution_count": 50,
   "id": "a2560df0",
   "metadata": {},
   "outputs": [],
   "source": [
    "\n",
    "import json\n",
    "import re\n",
    "from konlpy.tag import Okt\n",
    "from collections import Counter\n",
    "from wordcloud import WordCloud\n",
    "from functools import reduce\n",
    "\n",
    "import numpy as np\n",
    "import pandas as pd\n",
    "import matplotlib.pyplot as plt\n",
    "import seaborn as sns\n",
    "\n",
    "import matplotlib\n",
    "import matplotlib.font_manager as fm\n",
    "font_loc = 'C:/Windows/Fonts/H2PORM.TTF'\n",
    "font_name = fm.FontProperties(fname=font_loc).get_name()\n",
    "matplotlib.rc('font',family=font_name)\n",
    "plt.rcParams['axes.unicode_minus'] = False  # 한글폰트적용시 - 깨짐방지.."
   ]
  },
  {
   "cell_type": "code",
   "execution_count": 90,
   "id": "ef7facd8",
   "metadata": {},
   "outputs": [],
   "source": [
    "def showTextClude(listValue:list, count = 0):\n",
    "    temp_list = [re.sub(r'[^\\w]',' ',w) for w in listValue]\n",
    "    temp = [i.split() for i in temp_list]\n",
    "    temp = reduce(lambda x,y : x+y, temp)\n",
    "    temp = [re.sub(r'[^\\w]',' ',w) for w in temp]\n",
    "    temp =[w for w in temp if len(w) > 1]\n",
    "    # 불용어 제거\n",
    "    stopword = ['김건희','윤','석','열','김','건','희','는','을','3','9','34','있다','씨','가','대통령']\n",
    "    temp = [w for w in temp if not np.any([w[-2:] in stopword, w[-1] in stopword])]\n",
    "    temp_count = Counter(temp)\n",
    "    print(temp)\n",
    "    if count != 0:     \n",
    "        temp_count = dict(temp_count.most_common(count)) # 상위 count개\n",
    "    wc = WordCloud(font_loc ,background_color='white',width=800,height=600)\n",
    "    cloud = wc.generate_from_frequencies(temp_count)\n",
    "    plt.imshow(cloud)\n",
    "    plt.axis('off')\n",
    "    plt.show()"
   ]
  },
  {
   "cell_type": "code",
   "execution_count": 89,
   "id": "52f9d4db",
   "metadata": {},
   "outputs": [
    {
     "data": {
      "text/plain": [
       "True"
      ]
     },
     "execution_count": 89,
     "metadata": {},
     "output_type": "execute_result"
    }
   ],
   "source": [
    "stopworld = ['김건희','윤','석','열','김','건','희','는','을','3','9','34','있다','씨','가','대통령','다']\n",
    "np.any([w in stopworld for w in '재직했다'])\n",
    "# '재직했다' in ['김건희','윤','석','열','김','건','희','는','을','3','9','34','있다','씨','가','대통령','다']"
   ]
  },
  {
   "cell_type": "code",
   "execution_count": 93,
   "id": "47b103d4",
   "metadata": {},
   "outputs": [],
   "source": [
    "# df.loc[:,'contents'].values\n",
    "# showTextClude(df.loc[:,'contents'].values,1000)"
   ]
  },
  {
   "cell_type": "code",
   "execution_count": null,
   "id": "19054061",
   "metadata": {},
   "outputs": [],
   "source": []
  },
  {
   "cell_type": "code",
   "execution_count": null,
   "id": "df4ae821",
   "metadata": {},
   "outputs": [],
   "source": []
  },
  {
   "cell_type": "code",
   "execution_count": 2,
   "id": "43595242",
   "metadata": {},
   "outputs": [
    {
     "data": {
      "text/plain": [
       "[<a href=\"#\" title=\"경기/인천\">경기/인천</a>]"
      ]
     },
     "execution_count": 2,
     "metadata": {},
     "output_type": "execute_result"
    }
   ],
   "source": [
    "# 롯데 시네마 크롤링\n",
    "import selenium\n",
    "from bs4 import BeautifulSoup\n",
    "from selenium import webdriver\n",
    "url = \"https://www.lottecinema.co.kr/NLCHS\"\n",
    "driver = webdriver.Chrome('chromedriver')\n",
    "driver.get(url)\n",
    "html = driver.page_source  # html 소스 가져오기\n",
    "soup =  BeautifulSoup(html, 'html.parser')\n",
    "#nav > ul > li:nth-child(3) > div > ul > li:nth-child(3) > a"
   ]
  },
  {
   "cell_type": "code",
   "execution_count": 3,
   "id": "c178825b",
   "metadata": {},
   "outputs": [
    {
     "data": {
      "text/plain": [
       "[<a href=\"#\" title=\"경기/인천\">경기/인천</a>]"
      ]
     },
     "execution_count": 3,
     "metadata": {},
     "output_type": "execute_result"
    }
   ],
   "source": [
    "soup.select('#nav > ul > li:nth-child(3) > div > ul > li:nth-child(3) > a')"
   ]
  },
  {
   "cell_type": "code",
   "execution_count": 94,
   "id": "ab236043",
   "metadata": {},
   "outputs": [],
   "source": [
    "# tags = soup.select('#nav > ul > li:nth-child(3) > div > ul > li:nth-child(3) > div > ul > li')\n",
    "# for i in tags:\n",
    "#     print(i.text)"
   ]
  },
  {
   "cell_type": "code",
   "execution_count": 28,
   "id": "1e9622ac",
   "metadata": {},
   "outputs": [],
   "source": [
    "# CGV iframe\n",
    "import selenium\n",
    "from bs4 import BeautifulSoup\n",
    "from selenium import webdriver\n",
    "from selenium.webdriver.common.by import By\n",
    "url ='http://www.cgv.co.kr/theaters/'\n",
    "driver = webdriver.Chrome('chromedriver')\n",
    "driver.get(url)\n",
    "\n",
    "# driver.switch_to.frame(\"#ifrm_movie_time_table\")\n",
    "# html = driver.page_source  # html 소스 가져오기\n",
    "# soup =  BeautifulSoup(html, 'html.parser')"
   ]
  },
  {
   "cell_type": "code",
   "execution_count": 95,
   "id": "5d77447f",
   "metadata": {},
   "outputs": [],
   "source": [
    "# iframe일경우 driver를 iframe을 읽을수 있는 형태로 change 한다.\n",
    "iframe =  driver.find_element(By.CSS_SELECTOR, '.col-detail> iframe')\n",
    "driver.switch_to.frame(iframe)\n",
    "html = driver.page_source  # html 소스 가져오기\n",
    "soup =  BeautifulSoup(html, 'html.parser')"
   ]
  },
  {
   "cell_type": "code",
   "execution_count": 35,
   "id": "530a8249",
   "metadata": {},
   "outputs": [
    {
     "data": {
      "text/plain": [
       "'\\n\\n\\n\\n12\\n \\n                                                정직한 후보2\\n\\n\\n                                            상영중\\n\\n\\n\\n\\n                                        코미디/ \\n                                            107분/ \\n                                                2022.09.28\\n                                                개봉\\n\\n\\n\\n\\n\\n                                                        2D\\n\\n                                                        1관 6층\\n총\\n                                                        158석\\n\\n\\n\\n\\n16:30잔여좌석148석\\n18:50잔여좌석139석\\n21:10잔여좌석137석\\n23:30잔여좌석151석\\n\\n\\n\\n\\n\\n\\n\\n                                                        2D\\n\\n                                                        4관[LCK관] 8층\\n총\\n                                                        124석\\n\\n\\n\\n\\n15:10마감\\n23:00잔여좌석120석\\n\\n\\n\\n\\n'"
      ]
     },
     "execution_count": 35,
     "metadata": {},
     "output_type": "execute_result"
    }
   ],
   "source": [
    "soup.select('.sect-showtimes>ul>li')[0].text"
   ]
  },
  {
   "cell_type": "code",
   "execution_count": 36,
   "id": "0258b25e",
   "metadata": {},
   "outputs": [],
   "source": [
    "driver.switch_to.default_content()"
   ]
  },
  {
   "cell_type": "code",
   "execution_count": null,
   "id": "93e903f7",
   "metadata": {},
   "outputs": [],
   "source": []
  }
 ],
 "metadata": {
  "kernelspec": {
   "display_name": "Python 3 (ipykernel)",
   "language": "python",
   "name": "python3"
  },
  "language_info": {
   "codemirror_mode": {
    "name": "ipython",
    "version": 3
   },
   "file_extension": ".py",
   "mimetype": "text/x-python",
   "name": "python",
   "nbconvert_exporter": "python",
   "pygments_lexer": "ipython3",
   "version": "3.9.12"
  }
 },
 "nbformat": 4,
 "nbformat_minor": 5
}
